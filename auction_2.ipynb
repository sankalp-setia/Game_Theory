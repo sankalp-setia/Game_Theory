{
 "cells": [
  {
   "cell_type": "code",
   "execution_count": 1,
   "id": "d14e38f4",
   "metadata": {},
   "outputs": [],
   "source": [
    "import numpy as np\n",
    "import pandas as pd"
   ]
  },
  {
   "cell_type": "code",
   "execution_count": 2,
   "id": "370d2927",
   "metadata": {},
   "outputs": [],
   "source": [
    "A = []\n",
    "B = []\n",
    "C = []\n",
    "\n",
    "A.append(np.random.randint(20, 100))\n",
    "B.append(np.random.randint(20, 100))\n",
    "C.append(np.random.randint(20, 100))"
   ]
  },
  {
   "cell_type": "code",
   "execution_count": 3,
   "id": "185459cc",
   "metadata": {},
   "outputs": [
    {
     "data": {
      "text/plain": [
       "[60]"
      ]
     },
     "execution_count": 3,
     "metadata": {},
     "output_type": "execute_result"
    }
   ],
   "source": [
    "A"
   ]
  },
  {
   "cell_type": "code",
   "execution_count": 4,
   "id": "92b5b822",
   "metadata": {},
   "outputs": [
    {
     "data": {
      "text/plain": [
       "[96]"
      ]
     },
     "execution_count": 4,
     "metadata": {},
     "output_type": "execute_result"
    }
   ],
   "source": [
    "B"
   ]
  },
  {
   "cell_type": "code",
   "execution_count": 5,
   "id": "c5a59d9a",
   "metadata": {},
   "outputs": [
    {
     "data": {
      "text/plain": [
       "[29]"
      ]
     },
     "execution_count": 5,
     "metadata": {},
     "output_type": "execute_result"
    }
   ],
   "source": [
    "C"
   ]
  },
  {
   "cell_type": "code",
   "execution_count": 6,
   "id": "96851869",
   "metadata": {},
   "outputs": [],
   "source": [
    "# MAX FIRST BID IS 96"
   ]
  },
  {
   "cell_type": "code",
   "execution_count": 12,
   "id": "05f3f83f",
   "metadata": {},
   "outputs": [
    {
     "data": {
      "text/plain": [
       "7"
      ]
     },
     "execution_count": 12,
     "metadata": {},
     "output_type": "execute_result"
    }
   ],
   "source": [
    "no_of_rounds = np.round(np.log2(96))\n",
    "\n",
    "no_of_rounds = int(no_of_rounds)\n",
    "\n",
    "no_of_rounds"
   ]
  },
  {
   "cell_type": "code",
   "execution_count": 13,
   "id": "1342b1f4",
   "metadata": {},
   "outputs": [],
   "source": [
    "def generate_bid():\n",
    "    return np.random.randint(20, 100)\n",
    "\n",
    "for _ in range(no_of_rounds - 1):\n",
    "    A.append(generate_bid())\n",
    "    B.append(generate_bid())\n",
    "    C.append(generate_bid())"
   ]
  },
  {
   "cell_type": "code",
   "execution_count": 14,
   "id": "a9425144",
   "metadata": {},
   "outputs": [
    {
     "name": "stdout",
     "output_type": "stream",
     "text": [
      "[60, 28, 95, 93, 87, 92, 99]\n"
     ]
    }
   ],
   "source": [
    "print(A)"
   ]
  },
  {
   "cell_type": "code",
   "execution_count": 15,
   "id": "f5765082",
   "metadata": {},
   "outputs": [
    {
     "name": "stdout",
     "output_type": "stream",
     "text": [
      "[96, 86, 45, 79, 68, 49, 66]\n"
     ]
    }
   ],
   "source": [
    "print(B)"
   ]
  },
  {
   "cell_type": "code",
   "execution_count": 16,
   "id": "cc227bc4",
   "metadata": {},
   "outputs": [
    {
     "name": "stdout",
     "output_type": "stream",
     "text": [
      "[29, 26, 25, 88, 56, 64, 95]\n"
     ]
    }
   ],
   "source": [
    "print(C)"
   ]
  },
  {
   "cell_type": "code",
   "execution_count": null,
   "id": "3cdb25d3",
   "metadata": {},
   "outputs": [],
   "source": [
    "\n",
    "    "
   ]
  }
 ],
 "metadata": {
  "kernelspec": {
   "display_name": "Python 3 (ipykernel)",
   "language": "python",
   "name": "python3"
  },
  "language_info": {
   "codemirror_mode": {
    "name": "ipython",
    "version": 3
   },
   "file_extension": ".py",
   "mimetype": "text/x-python",
   "name": "python",
   "nbconvert_exporter": "python",
   "pygments_lexer": "ipython3",
   "version": "3.9.12"
  }
 },
 "nbformat": 4,
 "nbformat_minor": 5
}
