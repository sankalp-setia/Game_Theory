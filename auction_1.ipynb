{
 "cells": [
  {
   "cell_type": "code",
   "execution_count": 48,
   "id": "378123f0",
   "metadata": {},
   "outputs": [],
   "source": [
    "import numpy as np\n",
    "import pandas as pd"
   ]
  },
  {
   "cell_type": "code",
   "execution_count": 34,
   "id": "5697e25e",
   "metadata": {},
   "outputs": [],
   "source": [
    "def generate_bids():\n",
    "    bid1 = np.random.randint(10, 100)\n",
    "    bid2 = np.random.randint(10, 100)\n",
    "    \n",
    "    return (bid1, bid2)"
   ]
  },
  {
   "cell_type": "code",
   "execution_count": 35,
   "id": "a9ca5764",
   "metadata": {},
   "outputs": [],
   "source": [
    "A = []\n",
    "B = []\n",
    "C = []\n",
    "\n",
    "for _ in range(10):\n",
    "    A.append(generate_bids())\n",
    "    B.append(generate_bids())\n",
    "    C.append(generate_bids())"
   ]
  },
  {
   "cell_type": "code",
   "execution_count": 36,
   "id": "0f8f46d5",
   "metadata": {},
   "outputs": [
    {
     "name": "stdout",
     "output_type": "stream",
     "text": [
      "[(99, 27), (60, 61), (32, 62), (70, 88), (45, 71), (63, 98), (78, 12), (89, 85), (27, 53), (13, 39)]\n"
     ]
    }
   ],
   "source": [
    "print(A)"
   ]
  },
  {
   "cell_type": "code",
   "execution_count": 37,
   "id": "6f039f20",
   "metadata": {},
   "outputs": [
    {
     "name": "stdout",
     "output_type": "stream",
     "text": [
      "[(60, 89), (59, 59), (64, 69), (11, 63), (24, 78), (32, 32), (96, 59), (99, 72), (79, 67), (86, 28)]\n"
     ]
    }
   ],
   "source": [
    "print(B)"
   ]
  },
  {
   "cell_type": "code",
   "execution_count": 38,
   "id": "76fbe7ca",
   "metadata": {},
   "outputs": [
    {
     "name": "stdout",
     "output_type": "stream",
     "text": [
      "[(38, 86), (53, 56), (63, 10), (17, 90), (80, 39), (36, 50), (84, 16), (85, 35), (42, 28), (29, 54)]\n"
     ]
    }
   ],
   "source": [
    "print(C)"
   ]
  },
  {
   "cell_type": "code",
   "execution_count": 51,
   "id": "24713204",
   "metadata": {},
   "outputs": [
    {
     "data": {
      "text/plain": [
       "[63.0, 60.5, 47.0, 79.0, 58.0, 80.5, 45.0, 87.0, 40.0, 26.0]"
      ]
     },
     "execution_count": 51,
     "metadata": {},
     "output_type": "execute_result"
    }
   ],
   "source": [
    "A_avg = []\n",
    "\n",
    "for i in range(10):\n",
    "    A_avg.append((A[i][0] + A[i][1])/2)\n",
    "    \n",
    "A_avg"
   ]
  },
  {
   "cell_type": "code",
   "execution_count": 52,
   "id": "03204ac5",
   "metadata": {},
   "outputs": [
    {
     "data": {
      "text/plain": [
       "[74.5, 59.0, 66.5, 37.0, 51.0, 32.0, 77.5, 85.5, 73.0, 57.0]"
      ]
     },
     "execution_count": 52,
     "metadata": {},
     "output_type": "execute_result"
    }
   ],
   "source": [
    "B_avg = []\n",
    "\n",
    "for i in range(10):\n",
    "    B_avg.append((B[i][0] + B[i][1])/2)\n",
    "    \n",
    "B_avg"
   ]
  },
  {
   "cell_type": "code",
   "execution_count": 53,
   "id": "1624393f",
   "metadata": {},
   "outputs": [
    {
     "data": {
      "text/plain": [
       "[62.0, 54.5, 36.5, 53.5, 59.5, 43.0, 50.0, 60.0, 35.0, 41.5]"
      ]
     },
     "execution_count": 53,
     "metadata": {},
     "output_type": "execute_result"
    }
   ],
   "source": [
    "C_avg = []\n",
    "\n",
    "for i in range(10):\n",
    "    C_avg.append((C[i][0] + C[i][1])/2)\n",
    "    \n",
    "C_avg"
   ]
  },
  {
   "cell_type": "code",
   "execution_count": 62,
   "id": "e3da2e68",
   "metadata": {},
   "outputs": [
    {
     "name": "stdout",
     "output_type": "stream",
     "text": [
      "[71.75 58.06 54.46 64.71 60.07 56.89 66.13 80.19 52.94 47.66]\n"
     ]
    }
   ],
   "source": [
    "RMS = []\n",
    "\n",
    "for i in range(10):\n",
    "    x = 0\n",
    "    x += A[i][0]**2 + A[i][1]**2\n",
    "    x += B[i][0]**2 + B[i][1]**2\n",
    "    x += C[i][0]**2 + C[i][1]**2\n",
    "    x /= 6\n",
    "    x = np.sqrt(x)\n",
    "    RMS.append(x)\n",
    "    \n",
    "RMS = np.array(RMS)\n",
    "RMS = RMS.round(2)\n",
    "print(RMS)"
   ]
  },
  {
   "cell_type": "code",
   "execution_count": 64,
   "id": "d723c3ec",
   "metadata": {},
   "outputs": [
    {
     "name": "stdout",
     "output_type": "stream",
     "text": [
      "       0      1      2\n",
      "0   8.75   2.75   9.75\n",
      "1   2.44   0.94   3.56\n",
      "2   7.46  12.04  17.96\n",
      "3  14.29  27.71  11.21\n",
      "4   2.07   9.07   0.57\n",
      "5  23.61  24.89  13.89\n",
      "6  21.13  11.37  16.13\n",
      "7   6.81   5.31  20.19\n",
      "8  12.94  20.06  17.94\n",
      "9  21.66   9.34   6.16\n"
     ]
    }
   ],
   "source": [
    "differences = []\n",
    "\n",
    "for i in range(10):\n",
    "    this_round = []\n",
    "    \n",
    "    this_round.append(abs(A_avg[i] - RMS[i]))\n",
    "    this_round.append(abs(B_avg[i] - RMS[i]))\n",
    "    this_round.append(abs(C_avg[i] - RMS[i]))\n",
    "\n",
    "    differences.append(this_round)\n",
    "    \n",
    "print(pd.DataFrame(differences))"
   ]
  },
  {
   "cell_type": "code",
   "execution_count": 68,
   "id": "f695cecc",
   "metadata": {},
   "outputs": [
    {
     "name": "stdout",
     "output_type": "stream",
     "text": [
      "[ 2.75  0.94  7.46 11.21  0.57 13.89 11.37  5.31 12.94  6.16]\n"
     ]
    }
   ],
   "source": [
    "winning_diffs = []\n",
    "\n",
    "for i in range(10):\n",
    "    winning_diffs.append(np.amin(differences[i]))\n",
    "    \n",
    "winning_diffs = np.array(winning_diffs)\n",
    "winning_diffs = winning_diffs.round(2)\n",
    "\n",
    "print(winning_diffs)"
   ]
  },
  {
   "cell_type": "code",
   "execution_count": null,
   "id": "b71ce219",
   "metadata": {},
   "outputs": [],
   "source": []
  },
  {
   "cell_type": "code",
   "execution_count": null,
   "id": "ae2264f8",
   "metadata": {},
   "outputs": [],
   "source": []
  }
 ],
 "metadata": {
  "kernelspec": {
   "display_name": "Python 3 (ipykernel)",
   "language": "python",
   "name": "python3"
  },
  "language_info": {
   "codemirror_mode": {
    "name": "ipython",
    "version": 3
   },
   "file_extension": ".py",
   "mimetype": "text/x-python",
   "name": "python",
   "nbconvert_exporter": "python",
   "pygments_lexer": "ipython3",
   "version": "3.9.12"
  }
 },
 "nbformat": 4,
 "nbformat_minor": 5
}
